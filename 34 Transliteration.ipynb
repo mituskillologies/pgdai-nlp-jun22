{
 "cells": [
  {
   "cell_type": "markdown",
   "id": "296cd9a1",
   "metadata": {},
   "source": [
    "#### Install packages"
   ]
  },
  {
   "cell_type": "code",
   "execution_count": 1,
   "id": "38f6862d",
   "metadata": {},
   "outputs": [
    {
     "name": "stdout",
     "output_type": "stream",
     "text": [
      "Defaulting to user installation because normal site-packages is not writeable\n",
      "Requirement already satisfied: indic_transliteration in /usr/local/lib/python3.8/dist-packages (1.9.9)\n",
      "Requirement already satisfied: regex in /home/mitu/.local/lib/python3.8/site-packages (from indic_transliteration) (2021.11.2)\n",
      "Requirement already satisfied: backports.functools-lru-cache in /usr/local/lib/python3.8/dist-packages (from indic_transliteration) (1.6.1)\n",
      "Requirement already satisfied: selenium in /usr/local/lib/python3.8/dist-packages (from indic_transliteration) (3.141.0)\n",
      "Requirement already satisfied: urllib3 in /home/mitu/.local/lib/python3.8/site-packages (from selenium->indic_transliteration) (1.26.14)\n"
     ]
    }
   ],
   "source": [
    "!pip install indic_transliteration"
   ]
  },
  {
   "cell_type": "code",
   "execution_count": 1,
   "id": "1b273588",
   "metadata": {},
   "outputs": [],
   "source": [
    "from indic_transliteration import sanscript \n",
    "from indic_transliteration.sanscript import transliterate"
   ]
  },
  {
   "cell_type": "code",
   "execution_count": 2,
   "id": "c898d3a3",
   "metadata": {},
   "outputs": [],
   "source": [
    "data = 'tuShaara kuTe'"
   ]
  },
  {
   "cell_type": "code",
   "execution_count": 3,
   "id": "f1634585",
   "metadata": {},
   "outputs": [
    {
     "name": "stdout",
     "output_type": "stream",
     "text": [
      "तुषार कुटे\n"
     ]
    }
   ],
   "source": [
    "print(transliterate(data, sanscript.ITRANS, sanscript.DEVANAGARI))"
   ]
  },
  {
   "cell_type": "code",
   "execution_count": 7,
   "id": "18fc930f",
   "metadata": {},
   "outputs": [
    {
     "name": "stdout",
     "output_type": "stream",
     "text": [
      "તુષાર કુટે\n"
     ]
    }
   ],
   "source": [
    "print(transliterate(data, sanscript.ITRANS, sanscript.GUJARATI))"
   ]
  },
  {
   "cell_type": "code",
   "execution_count": 8,
   "id": "e889eca3",
   "metadata": {},
   "outputs": [
    {
     "name": "stdout",
     "output_type": "stream",
     "text": [
      "ತುಷಾರ ಕುಟೇ\n"
     ]
    }
   ],
   "source": [
    "print(transliterate(data, sanscript.ITRANS, sanscript.KANNADA))"
   ]
  },
  {
   "cell_type": "code",
   "execution_count": 13,
   "id": "c047d932",
   "metadata": {},
   "outputs": [
    {
     "name": "stdout",
     "output_type": "stream",
     "text": [
      "ऋषिकेश\n"
     ]
    }
   ],
   "source": [
    "data = 'RRiShikesha'\n",
    "print(transliterate(data, sanscript.ITRANS, sanscript.DEVANAGARI))"
   ]
  },
  {
   "cell_type": "code",
   "execution_count": 14,
   "id": "f1d62a45",
   "metadata": {},
   "outputs": [
    {
     "name": "stdout",
     "output_type": "stream",
     "text": [
      "धनश्री\n"
     ]
    }
   ],
   "source": [
    "data = 'dhanashrI'\n",
    "print(transliterate(data, sanscript.ITRANS, sanscript.DEVANAGARI))"
   ]
  },
  {
   "cell_type": "code",
   "execution_count": 19,
   "id": "4e0a1493",
   "metadata": {},
   "outputs": [
    {
     "name": "stdout",
     "output_type": "stream",
     "text": [
      "Enter your name:samRRiddhI\n",
      "समृद्धी\n"
     ]
    }
   ],
   "source": [
    "data = input('Enter your name:')\n",
    "print(transliterate(data, sanscript.ITRANS, sanscript.DEVANAGARI))"
   ]
  },
  {
   "cell_type": "code",
   "execution_count": null,
   "id": "27f28ecc",
   "metadata": {},
   "outputs": [],
   "source": []
  }
 ],
 "metadata": {
  "kernelspec": {
   "display_name": "Python 3",
   "language": "python",
   "name": "python3"
  },
  "language_info": {
   "codemirror_mode": {
    "name": "ipython",
    "version": 3
   },
   "file_extension": ".py",
   "mimetype": "text/x-python",
   "name": "python",
   "nbconvert_exporter": "python",
   "pygments_lexer": "ipython3",
   "version": "3.8.10"
  }
 },
 "nbformat": 4,
 "nbformat_minor": 5
}
