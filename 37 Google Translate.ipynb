{
 "cells": [
  {
   "cell_type": "markdown",
   "id": "04e3d110",
   "metadata": {},
   "source": [
    "#### Install library"
   ]
  },
  {
   "cell_type": "code",
   "execution_count": 2,
   "id": "9840774f",
   "metadata": {},
   "outputs": [
    {
     "name": "stdout",
     "output_type": "stream",
     "text": [
      "Defaulting to user installation because normal site-packages is not writeable\n",
      "Requirement already satisfied: goslate in /home/mitu/.local/lib/python3.8/site-packages (1.5.4)\n",
      "Requirement already satisfied: futures in /home/mitu/.local/lib/python3.8/site-packages (from goslate) (3.0.5)\n"
     ]
    }
   ],
   "source": [
    "!pip install goslate"
   ]
  },
  {
   "cell_type": "markdown",
   "id": "82c9fc6a",
   "metadata": {},
   "source": [
    "#### Import the package"
   ]
  },
  {
   "cell_type": "code",
   "execution_count": 4,
   "id": "72a87bd1",
   "metadata": {},
   "outputs": [],
   "source": [
    "from goslate import Goslate  # class"
   ]
  },
  {
   "cell_type": "code",
   "execution_count": 17,
   "id": "1227a898",
   "metadata": {},
   "outputs": [],
   "source": [
    "text = 'Hello friends. I am your teacher. I will teach this course.'"
   ]
  },
  {
   "cell_type": "code",
   "execution_count": 9,
   "id": "3e6239f1",
   "metadata": {},
   "outputs": [],
   "source": [
    "trans = Goslate()"
   ]
  },
  {
   "cell_type": "code",
   "execution_count": 10,
   "id": "e5b4ef0c",
   "metadata": {},
   "outputs": [
    {
     "data": {
      "text/plain": [
       "'नमस्कार मित्रांनो. मी तुमचा शिक्षक आहे. मी हा कोर्स शिकवीन'"
      ]
     },
     "execution_count": 10,
     "metadata": {},
     "output_type": "execute_result"
    }
   ],
   "source": [
    "trans.translate(text=text, target_language='mr')"
   ]
  },
  {
   "cell_type": "code",
   "execution_count": 12,
   "id": "d291126f",
   "metadata": {},
   "outputs": [],
   "source": [
    "from textblob import TextBlob"
   ]
  },
  {
   "cell_type": "code",
   "execution_count": 18,
   "id": "d949731f",
   "metadata": {},
   "outputs": [
    {
     "data": {
      "text/plain": [
       "['नमस्कार मित्रांनो.', 'मी तुमचा शिक्षक आहे.', 'मी हा कोर्स शिकवीन.']"
      ]
     },
     "execution_count": 18,
     "metadata": {},
     "output_type": "execute_result"
    }
   ],
   "source": [
    "TextBlob(text).translate(from_lang='en', to='mr').raw_sentences"
   ]
  },
  {
   "cell_type": "code",
   "execution_count": 22,
   "id": "ea972745",
   "metadata": {},
   "outputs": [],
   "source": [
    "text = '''The Large Hadron Collider (LHC) is the world's largest and highest-energy particle collider.It was built by the European Organization for Nuclear Research (CERN) between 1998 and 2008 in collaboration with over 10,000 scientists and hundreds of universities and laboratories, as well as more than 100 countries. It lies in a tunnel 27 kilometres (17 mi) in circumference and as deep as 175 metres (574 ft) beneath the France–Switzerland border near Geneva.\n",
    "The first collisions were achieved in 2010 at an energy of 3.5 teraelectronvolts (TeV) per beam, about four times the previous world record. The discovery of the Higgs boson at the LHC was announced in 2012. Between 2013 and 2015, the LHC was shut down and upgraded; after those upgrades it reached 6.8 TeV per beam (13.6 TeV total collision energy). At the end of 2018, it was shut down for three years for further upgrades.\n",
    "The collider has four crossing points where the accelerated particles collide. Nine detectors, each designed to detect different phenomena, are positioned around the crossing points. The LHC primarily collides proton beams, but it can also accelerate beams of heavy ions: lead–lead collisions and proton–lead collisions are typically performed for one month a year.\n",
    "The LHC's goal is to allow physicists to test the predictions of different theories of particle physics, including measuring the properties of the Higgs boson, searching for the large family of new particles predicted by supersymmetric theories, and other unresolved questions in particle physics.'''"
   ]
  },
  {
   "cell_type": "code",
   "execution_count": 28,
   "id": "fc08dd88",
   "metadata": {},
   "outputs": [],
   "source": [
    "trtext = str(TextBlob(text).translate(from_lang='en', to='mr'))"
   ]
  },
  {
   "cell_type": "code",
   "execution_count": 30,
   "id": "f266cfca",
   "metadata": {},
   "outputs": [],
   "source": [
    "trtext;"
   ]
  },
  {
   "cell_type": "code",
   "execution_count": 24,
   "id": "6c967a81",
   "metadata": {},
   "outputs": [],
   "source": [
    "from gtts import gTTS                  # class\n",
    "from playsound import playsound        # method"
   ]
  },
  {
   "cell_type": "code",
   "execution_count": 31,
   "id": "1c226473",
   "metadata": {},
   "outputs": [],
   "source": [
    "tts = gTTS(text=trtext, lang='mr')"
   ]
  },
  {
   "cell_type": "code",
   "execution_count": 32,
   "id": "ba426fae",
   "metadata": {},
   "outputs": [],
   "source": [
    "tts.save('speech.mp3')\n",
    "playsound('speech.mp3')"
   ]
  },
  {
   "cell_type": "code",
   "execution_count": null,
   "id": "b22b17dd",
   "metadata": {},
   "outputs": [],
   "source": []
  }
 ],
 "metadata": {
  "kernelspec": {
   "display_name": "Python 3",
   "language": "python",
   "name": "python3"
  },
  "language_info": {
   "codemirror_mode": {
    "name": "ipython",
    "version": 3
   },
   "file_extension": ".py",
   "mimetype": "text/x-python",
   "name": "python",
   "nbconvert_exporter": "python",
   "pygments_lexer": "ipython3",
   "version": "3.8.10"
  }
 },
 "nbformat": 4,
 "nbformat_minor": 5
}
