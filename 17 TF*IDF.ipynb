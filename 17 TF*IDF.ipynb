{
 "cells": [
  {
   "cell_type": "code",
   "execution_count": 1,
   "id": "88aecfea",
   "metadata": {},
   "outputs": [],
   "source": [
    "sentence_1=\"It is a good practice for us.\"\n",
    "sentence_2=\"It was also good to know about it.\""
   ]
  },
  {
   "cell_type": "markdown",
   "id": "590974f3",
   "metadata": {},
   "source": [
    "#### TF * IDF Vectorizer"
   ]
  },
  {
   "cell_type": "code",
   "execution_count": 7,
   "id": "00e5eb92",
   "metadata": {},
   "outputs": [],
   "source": [
    "# import the class\n",
    "from sklearn.feature_extraction.text import TfidfVectorizer\n",
    "import pandas as pd"
   ]
  },
  {
   "cell_type": "code",
   "execution_count": 3,
   "id": "8fdd116f",
   "metadata": {},
   "outputs": [],
   "source": [
    "# create the object\n",
    "tfv = TfidfVectorizer()"
   ]
  },
  {
   "cell_type": "code",
   "execution_count": 4,
   "id": "449e13ab",
   "metadata": {},
   "outputs": [],
   "source": [
    "# apply the method\n",
    "x = tfv.fit_transform([sentence_1, sentence_2])"
   ]
  },
  {
   "cell_type": "code",
   "execution_count": 5,
   "id": "5616ccbe",
   "metadata": {},
   "outputs": [
    {
     "data": {
      "text/plain": [
       "<2x11 sparse matrix of type '<class 'numpy.float64'>'\n",
       "\twith 13 stored elements in Compressed Sparse Row format>"
      ]
     },
     "execution_count": 5,
     "metadata": {},
     "output_type": "execute_result"
    }
   ],
   "source": [
    "x"
   ]
  },
  {
   "cell_type": "code",
   "execution_count": 6,
   "id": "27e0a606",
   "metadata": {},
   "outputs": [
    {
     "data": {
      "text/plain": [
       "array(['about', 'also', 'for', 'good', 'is', 'it', 'know', 'practice',\n",
       "       'to', 'us', 'was'], dtype=object)"
      ]
     },
     "execution_count": 6,
     "metadata": {},
     "output_type": "execute_result"
    }
   ],
   "source": [
    "tfv.get_feature_names_out()"
   ]
  },
  {
   "cell_type": "code",
   "execution_count": 8,
   "id": "3339db22",
   "metadata": {},
   "outputs": [],
   "source": [
    "df = pd.DataFrame(data=x.toarray(), \n",
    "                  columns=tfv.get_feature_names_out())"
   ]
  },
  {
   "cell_type": "code",
   "execution_count": 9,
   "id": "dfb8d7bb",
   "metadata": {},
   "outputs": [
    {
     "data": {
      "text/html": [
       "<div>\n",
       "<style scoped>\n",
       "    .dataframe tbody tr th:only-of-type {\n",
       "        vertical-align: middle;\n",
       "    }\n",
       "\n",
       "    .dataframe tbody tr th {\n",
       "        vertical-align: top;\n",
       "    }\n",
       "\n",
       "    .dataframe thead th {\n",
       "        text-align: right;\n",
       "    }\n",
       "</style>\n",
       "<table border=\"1\" class=\"dataframe\">\n",
       "  <thead>\n",
       "    <tr style=\"text-align: right;\">\n",
       "      <th></th>\n",
       "      <th>about</th>\n",
       "      <th>also</th>\n",
       "      <th>for</th>\n",
       "      <th>good</th>\n",
       "      <th>is</th>\n",
       "      <th>it</th>\n",
       "      <th>know</th>\n",
       "      <th>practice</th>\n",
       "      <th>to</th>\n",
       "      <th>us</th>\n",
       "      <th>was</th>\n",
       "    </tr>\n",
       "  </thead>\n",
       "  <tbody>\n",
       "    <tr>\n",
       "      <th>0</th>\n",
       "      <td>0.000000</td>\n",
       "      <td>0.000000</td>\n",
       "      <td>0.446656</td>\n",
       "      <td>0.317800</td>\n",
       "      <td>0.446656</td>\n",
       "      <td>0.317800</td>\n",
       "      <td>0.000000</td>\n",
       "      <td>0.446656</td>\n",
       "      <td>0.000000</td>\n",
       "      <td>0.446656</td>\n",
       "      <td>0.000000</td>\n",
       "    </tr>\n",
       "    <tr>\n",
       "      <th>1</th>\n",
       "      <td>0.364391</td>\n",
       "      <td>0.364391</td>\n",
       "      <td>0.000000</td>\n",
       "      <td>0.259267</td>\n",
       "      <td>0.000000</td>\n",
       "      <td>0.518534</td>\n",
       "      <td>0.364391</td>\n",
       "      <td>0.000000</td>\n",
       "      <td>0.364391</td>\n",
       "      <td>0.000000</td>\n",
       "      <td>0.364391</td>\n",
       "    </tr>\n",
       "  </tbody>\n",
       "</table>\n",
       "</div>"
      ],
      "text/plain": [
       "      about      also       for      good        is        it      know  \\\n",
       "0  0.000000  0.000000  0.446656  0.317800  0.446656  0.317800  0.000000   \n",
       "1  0.364391  0.364391  0.000000  0.259267  0.000000  0.518534  0.364391   \n",
       "\n",
       "   practice        to        us       was  \n",
       "0  0.446656  0.000000  0.446656  0.000000  \n",
       "1  0.000000  0.364391  0.000000  0.364391  "
      ]
     },
     "execution_count": 9,
     "metadata": {},
     "output_type": "execute_result"
    }
   ],
   "source": [
    "df"
   ]
  },
  {
   "cell_type": "markdown",
   "id": "c69b70c8",
   "metadata": {},
   "source": [
    "#### TF * IDF Transformer"
   ]
  },
  {
   "cell_type": "code",
   "execution_count": 20,
   "id": "2b632562",
   "metadata": {},
   "outputs": [],
   "source": [
    "from sklearn.feature_extraction.text import TfidfTransformer\n",
    "from sklearn.feature_extraction.text import CountVectorizer"
   ]
  },
  {
   "cell_type": "code",
   "execution_count": 21,
   "id": "fd4c43c7",
   "metadata": {},
   "outputs": [],
   "source": [
    "cv = CountVectorizer()"
   ]
  },
  {
   "cell_type": "code",
   "execution_count": 36,
   "id": "612cf9c6",
   "metadata": {},
   "outputs": [],
   "source": [
    "word_vector = cv.fit_transform([sentence_1, sentence_2])\n",
    "tfidf_transformer=TfidfTransformer() \n",
    "x = tfidf_transformer.fit_transform(word_vector)"
   ]
  },
  {
   "cell_type": "code",
   "execution_count": 45,
   "id": "f3247a94",
   "metadata": {},
   "outputs": [],
   "source": [
    "df = pd.DataFrame(tfidf_transformer.idf_, \n",
    "                      index=cv.get_feature_names_out(),\n",
    "                      columns=[\"idf_weights\"])"
   ]
  },
  {
   "cell_type": "code",
   "execution_count": 46,
   "id": "ecd26816",
   "metadata": {},
   "outputs": [
    {
     "data": {
      "text/html": [
       "<div>\n",
       "<style scoped>\n",
       "    .dataframe tbody tr th:only-of-type {\n",
       "        vertical-align: middle;\n",
       "    }\n",
       "\n",
       "    .dataframe tbody tr th {\n",
       "        vertical-align: top;\n",
       "    }\n",
       "\n",
       "    .dataframe thead th {\n",
       "        text-align: right;\n",
       "    }\n",
       "</style>\n",
       "<table border=\"1\" class=\"dataframe\">\n",
       "  <thead>\n",
       "    <tr style=\"text-align: right;\">\n",
       "      <th></th>\n",
       "      <th>idf_weights</th>\n",
       "    </tr>\n",
       "  </thead>\n",
       "  <tbody>\n",
       "    <tr>\n",
       "      <th>about</th>\n",
       "      <td>1.405465</td>\n",
       "    </tr>\n",
       "    <tr>\n",
       "      <th>also</th>\n",
       "      <td>1.405465</td>\n",
       "    </tr>\n",
       "    <tr>\n",
       "      <th>for</th>\n",
       "      <td>1.405465</td>\n",
       "    </tr>\n",
       "    <tr>\n",
       "      <th>good</th>\n",
       "      <td>1.000000</td>\n",
       "    </tr>\n",
       "    <tr>\n",
       "      <th>is</th>\n",
       "      <td>1.405465</td>\n",
       "    </tr>\n",
       "    <tr>\n",
       "      <th>it</th>\n",
       "      <td>1.000000</td>\n",
       "    </tr>\n",
       "    <tr>\n",
       "      <th>know</th>\n",
       "      <td>1.405465</td>\n",
       "    </tr>\n",
       "    <tr>\n",
       "      <th>practice</th>\n",
       "      <td>1.405465</td>\n",
       "    </tr>\n",
       "    <tr>\n",
       "      <th>to</th>\n",
       "      <td>1.405465</td>\n",
       "    </tr>\n",
       "    <tr>\n",
       "      <th>us</th>\n",
       "      <td>1.405465</td>\n",
       "    </tr>\n",
       "    <tr>\n",
       "      <th>was</th>\n",
       "      <td>1.405465</td>\n",
       "    </tr>\n",
       "  </tbody>\n",
       "</table>\n",
       "</div>"
      ],
      "text/plain": [
       "          idf_weights\n",
       "about        1.405465\n",
       "also         1.405465\n",
       "for          1.405465\n",
       "good         1.000000\n",
       "is           1.405465\n",
       "it           1.000000\n",
       "know         1.405465\n",
       "practice     1.405465\n",
       "to           1.405465\n",
       "us           1.405465\n",
       "was          1.405465"
      ]
     },
     "execution_count": 46,
     "metadata": {},
     "output_type": "execute_result"
    }
   ],
   "source": [
    "df"
   ]
  },
  {
   "cell_type": "code",
   "execution_count": 47,
   "id": "c96dc6fd",
   "metadata": {},
   "outputs": [
    {
     "data": {
      "text/plain": [
       "array([[0, 0, 1, 1, 1, 1, 0, 1, 0, 1, 0],\n",
       "       [1, 1, 0, 1, 0, 2, 1, 0, 1, 0, 1]])"
      ]
     },
     "execution_count": 47,
     "metadata": {},
     "output_type": "execute_result"
    }
   ],
   "source": [
    "word_vector.toarray()"
   ]
  },
  {
   "cell_type": "code",
   "execution_count": null,
   "id": "656d3209",
   "metadata": {},
   "outputs": [],
   "source": []
  }
 ],
 "metadata": {
  "kernelspec": {
   "display_name": "Python 3",
   "language": "python",
   "name": "python3"
  },
  "language_info": {
   "codemirror_mode": {
    "name": "ipython",
    "version": 3
   },
   "file_extension": ".py",
   "mimetype": "text/x-python",
   "name": "python",
   "nbconvert_exporter": "python",
   "pygments_lexer": "ipython3",
   "version": "3.8.10"
  }
 },
 "nbformat": 4,
 "nbformat_minor": 5
}
