{
 "cells": [
  {
   "cell_type": "markdown",
   "id": "ed623ff7",
   "metadata": {},
   "source": [
    "#### Install library"
   ]
  },
  {
   "cell_type": "code",
   "execution_count": 1,
   "id": "43501896",
   "metadata": {},
   "outputs": [
    {
     "name": "stdout",
     "output_type": "stream",
     "text": [
      "Defaulting to user installation because normal site-packages is not writeable\n",
      "Collecting language-tool-python\n",
      "  Downloading language_tool_python-2.7.1-py3-none-any.whl (34 kB)\n",
      "Requirement already satisfied: requests in /home/mitu/.local/lib/python3.8/site-packages (from language-tool-python) (2.28.2)\n",
      "Requirement already satisfied: tqdm in /usr/local/lib/python3.8/dist-packages (from language-tool-python) (4.49.0)\n",
      "Requirement already satisfied: charset-normalizer<4,>=2 in /home/mitu/.local/lib/python3.8/site-packages (from requests->language-tool-python) (2.1.1)\n",
      "Requirement already satisfied: idna<4,>=2.5 in /home/mitu/.local/lib/python3.8/site-packages (from requests->language-tool-python) (3.4)\n",
      "Requirement already satisfied: urllib3<1.27,>=1.21.1 in /home/mitu/.local/lib/python3.8/site-packages (from requests->language-tool-python) (1.26.14)\n",
      "Requirement already satisfied: certifi>=2017.4.17 in /home/mitu/.local/lib/python3.8/site-packages (from requests->language-tool-python) (2022.12.7)\n",
      "Installing collected packages: language-tool-python\n",
      "Successfully installed language-tool-python-2.7.1\n",
      "Note: you may need to restart the kernel to use updated packages.\n"
     ]
    }
   ],
   "source": [
    "pip install language-tool-python"
   ]
  },
  {
   "cell_type": "markdown",
   "id": "5f2986a3",
   "metadata": {},
   "source": [
    "#### Import the library"
   ]
  },
  {
   "cell_type": "code",
   "execution_count": 4,
   "id": "07f27d75",
   "metadata": {},
   "outputs": [],
   "source": [
    "import language_tool_python"
   ]
  },
  {
   "cell_type": "markdown",
   "id": "749e4cb3",
   "metadata": {},
   "source": [
    "#### Set the language"
   ]
  },
  {
   "cell_type": "code",
   "execution_count": 8,
   "id": "e01e5743",
   "metadata": {},
   "outputs": [],
   "source": [
    "# using the tool  \n",
    "my_tool = language_tool_python.LanguageTool('en-US')"
   ]
  },
  {
   "cell_type": "code",
   "execution_count": 7,
   "id": "dbc5598c",
   "metadata": {},
   "outputs": [],
   "source": [
    "# given text  \n",
    "my_text = \"\"\"He have collected an documents. I is there.\"\"\""
   ]
  },
  {
   "cell_type": "code",
   "execution_count": 9,
   "id": "8522d759",
   "metadata": {},
   "outputs": [
    {
     "name": "stdout",
     "output_type": "stream",
     "text": [
      "Offset 3, length 4, Rule ID: HE_VERB_AGR\n",
      "Message: The pronoun ‘He’ is usually used with a third-person or a past tense verb.\n",
      "Suggestion: has; had\n",
      "He have collected an documents. I is there\n",
      "   ^^^^\n",
      "Offset 18, length 12, Rule ID: A_NNS\n",
      "Message: The plural noun “documents” cannot be used with the article “an”. Did you mean “an document” or “documents”?\n",
      "Suggestion: an document; documents\n",
      "He have collected an documents. I is there\n",
      "                  ^^^^^^^^^^^^\n",
      "Offset 34, length 2, Rule ID: PERS_PRONOUN_AGREEMENT\n",
      "Message: Did you mean “am” or “will be”?\n",
      "Suggestion: am; will be\n",
      "He have collected an documents. I is there\n",
      "                                  ^^\n"
     ]
    }
   ],
   "source": [
    "# getting the matches\n",
    "my_matches = my_tool.check(my_text)\n",
    "\n",
    "# printing matches\n",
    "for m in my_matches:\n",
    "  print(m)"
   ]
  },
  {
   "cell_type": "code",
   "execution_count": 11,
   "id": "bded598b",
   "metadata": {},
   "outputs": [
    {
     "data": {
      "text/plain": [
       "'He has collected an document. I am there'"
      ]
     },
     "execution_count": 11,
     "metadata": {},
     "output_type": "execute_result"
    }
   ],
   "source": [
    "my_tool.correct(my_text)"
   ]
  },
  {
   "cell_type": "code",
   "execution_count": 12,
   "id": "d9262c25",
   "metadata": {},
   "outputs": [
    {
     "name": "stdout",
     "output_type": "stream",
     "text": [
      "Help on class LanguageTool in module language_tool_python.server:\n",
      "\n",
      "class LanguageTool(builtins.object)\n",
      " |  LanguageTool(language=None, motherTongue=None, remote_server=None, newSpellings=None, new_spellings_persist=True, host=None, config=None)\n",
      " |  \n",
      " |  Main class used for checking text against different rules. \n",
      " |  LanguageTool v2 API documentation: https://languagetool.org/http-api/swagger-ui/#!/default/post_check\n",
      " |  \n",
      " |  Methods defined here:\n",
      " |  \n",
      " |  __del__(self)\n",
      " |  \n",
      " |  __enter__(self)\n",
      " |  \n",
      " |  __exit__(self, exc_type, exc_val, exc_tb)\n",
      " |  \n",
      " |  __init__(self, language=None, motherTongue=None, remote_server=None, newSpellings=None, new_spellings_persist=True, host=None, config=None)\n",
      " |      Initialize self.  See help(type(self)) for accurate signature.\n",
      " |  \n",
      " |  __repr__(self)\n",
      " |      Return repr(self).\n",
      " |  \n",
      " |  check(self, text: str) -> [<class 'language_tool_python.match.Match'>]\n",
      " |      Match text against enabled rules.\n",
      " |  \n",
      " |  close(self)\n",
      " |  \n",
      " |  correct(self, text: str) -> str\n",
      " |      Automatically apply suggestions to the text.\n",
      " |  \n",
      " |  disable_spellchecking(self)\n",
      " |      Disable spell-checking rules.\n",
      " |  \n",
      " |  enable_spellchecking(self)\n",
      " |      Enable spell-checking rules.\n",
      " |  \n",
      " |  ----------------------------------------------------------------------\n",
      " |  Data descriptors defined here:\n",
      " |  \n",
      " |  __dict__\n",
      " |      dictionary for instance variables (if defined)\n",
      " |  \n",
      " |  __weakref__\n",
      " |      list of weak references to the object (if defined)\n",
      " |  \n",
      " |  language\n",
      " |      The language to be used.\n",
      " |  \n",
      " |  motherTongue\n",
      " |      The user's mother tongue or None.\n",
      " |      The mother tongue may also be used as a source language for\n",
      " |      checking bilingual texts.\n",
      " |  \n",
      " |  ----------------------------------------------------------------------\n",
      " |  Data and other attributes defined here:\n",
      " |  \n",
      " |  __annotations__ = {'_consumer_thread': <class 'threading.Thread'>, '_s...\n",
      "\n"
     ]
    }
   ],
   "source": [
    "help(language_tool_python.LanguageTool)"
   ]
  },
  {
   "cell_type": "code",
   "execution_count": 17,
   "id": "3a9f44e0",
   "metadata": {},
   "outputs": [
    {
     "name": "stdout",
     "output_type": "stream",
     "text": [
      "Help on method correct in module language_tool_python.server:\n",
      "\n",
      "correct(text: str) -> str method of language_tool_python.server.LanguageTool instance\n",
      "    Automatically apply suggestions to the text.\n",
      "\n"
     ]
    }
   ],
   "source": [
    "help(my_tool.correct)"
   ]
  },
  {
   "cell_type": "code",
   "execution_count": null,
   "id": "515ba4ad",
   "metadata": {},
   "outputs": [],
   "source": []
  }
 ],
 "metadata": {
  "kernelspec": {
   "display_name": "Python 3",
   "language": "python",
   "name": "python3"
  },
  "language_info": {
   "codemirror_mode": {
    "name": "ipython",
    "version": 3
   },
   "file_extension": ".py",
   "mimetype": "text/x-python",
   "name": "python",
   "nbconvert_exporter": "python",
   "pygments_lexer": "ipython3",
   "version": "3.8.10"
  }
 },
 "nbformat": 4,
 "nbformat_minor": 5
}
