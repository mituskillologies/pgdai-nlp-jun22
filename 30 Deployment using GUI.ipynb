{
 "cells": [
  {
   "cell_type": "code",
   "execution_count": 4,
   "id": "7bb3c88f",
   "metadata": {},
   "outputs": [],
   "source": [
    "from tkinter import *\n",
    "\n",
    "tk = Tk()\n",
    "tk.title('My Window')\n",
    "tk.geometry('500x300')\n",
    "tk.mainloop()"
   ]
  },
  {
   "cell_type": "code",
   "execution_count": 10,
   "id": "44fbb3d9",
   "metadata": {},
   "outputs": [],
   "source": [
    "top = Tk()\n",
    "\n",
    "b = Button(top,text=\"Hello\")\n",
    "b.pack()\n",
    "\n",
    "top.title('My Window')\n",
    "top.geometry('500x300')\n",
    "top.mainloop()"
   ]
  },
  {
   "cell_type": "code",
   "execution_count": 13,
   "id": "7ea180f4",
   "metadata": {},
   "outputs": [],
   "source": [
    "top = Tk()\n",
    "\n",
    "b = Button(top,text=\"Hello\")\n",
    "l = Label(top,text=\"My label\")\n",
    "b.pack()\n",
    "l.pack()\n",
    "\n",
    "top.title('My Window')\n",
    "top.geometry('500x300')\n",
    "top.mainloop()"
   ]
  },
  {
   "cell_type": "code",
   "execution_count": 15,
   "id": "1b02826c",
   "metadata": {},
   "outputs": [],
   "source": [
    "top = Tk()\n",
    "\n",
    "b = Button(top,text=\"Hello\")\n",
    "l = Label(top,text=\"My label\")\n",
    "e = Entry(top)\n",
    "e.pack()\n",
    "b.pack()\n",
    "l.pack()\n",
    "\n",
    "top.title('My Window')\n",
    "top.geometry('500x300')\n",
    "top.mainloop()"
   ]
  },
  {
   "cell_type": "markdown",
   "id": "4c29a710",
   "metadata": {},
   "source": [
    "#### Event Handling"
   ]
  },
  {
   "cell_type": "code",
   "execution_count": 28,
   "id": "e75bea20",
   "metadata": {},
   "outputs": [
    {
     "name": "stdout",
     "output_type": "stream",
     "text": [
      "Welcome \n",
      "Welcome hi\n"
     ]
    }
   ],
   "source": [
    "top = Tk()\n",
    "\n",
    "def display():\n",
    "    print('Welcome', name.get())\n",
    "\n",
    "name = StringVar()\n",
    "\n",
    "l = Label(top,text=\"Enter your name\")\n",
    "e = Entry(top, textvariable=name)\n",
    "b = Button(top,text=\"Click Here\", command=display)\n",
    "l.pack()\n",
    "e.pack()\n",
    "b.pack()\n",
    "\n",
    "top.title('My Window')\n",
    "top.geometry('500x300')\n",
    "top.mainloop()"
   ]
  },
  {
   "cell_type": "code",
   "execution_count": 30,
   "id": "68a638a1",
   "metadata": {},
   "outputs": [],
   "source": [
    "top = Tk()\n",
    "\n",
    "def display():\n",
    "    Label(text='Welcome ' + name.get()).pack()\n",
    "\n",
    "name = StringVar()\n",
    "\n",
    "l = Label(top,text=\"Enter your name\")\n",
    "e = Entry(top, textvariable=name)\n",
    "b = Button(top,text=\"Click Here\", command=display)\n",
    "l.pack()\n",
    "e.pack()\n",
    "b.pack()\n",
    "\n",
    "top.title('My Window')\n",
    "top.geometry('500x300')\n",
    "top.mainloop()"
   ]
  },
  {
   "cell_type": "code",
   "execution_count": 36,
   "id": "798fe4e5",
   "metadata": {},
   "outputs": [],
   "source": [
    "top = Tk()\n",
    "\n",
    "def display():\n",
    "    add = int(num1.get()) + int(num2.get())\n",
    "    Label(text='Addition is: '+str(add)).place(x=100, y=200)\n",
    "\n",
    "num1 = IntVar()\n",
    "num2 = IntVar()\n",
    "\n",
    "Label(top,text=\"Enter first number\").place(x=50, y=50)\n",
    "Entry(top, textvariable=num1).place(x=200, y=50)\n",
    "Label(top,text=\"Enter second number\").place(x=50, y=100)\n",
    "Entry(top, textvariable=num2).place(x=200, y=100)\n",
    "Button(top,text=\"Click Here\", command=display).place(x=100, y=150)\n",
    "\n",
    "top.title('My Window')\n",
    "top.geometry('500x300')\n",
    "top.mainloop()"
   ]
  },
  {
   "cell_type": "code",
   "execution_count": 39,
   "id": "c2db5c9e",
   "metadata": {},
   "outputs": [],
   "source": [
    "top = Tk()\n",
    "\n",
    "def display(event):\n",
    "    add = int(num1.get()) + int(num2.get())\n",
    "    Label(text='Addition is: '+str(add)).place(x=100, y=200)\n",
    "\n",
    "num1 = IntVar()\n",
    "num2 = IntVar()\n",
    "\n",
    "Label(top,text=\"Enter first number\").place(x=50, y=50)\n",
    "Entry(top, textvariable=num1).place(x=200, y=50)\n",
    "Label(top,text=\"Enter second number\").place(x=50, y=100)\n",
    "e = Entry(top, textvariable=num2)\n",
    "e.place(x=200, y=100)\n",
    "e.bind('<Return>',display)\n",
    "\n",
    "top.title('My Window')\n",
    "top.geometry('500x300')\n",
    "top.mainloop()"
   ]
  },
  {
   "cell_type": "markdown",
   "id": "dca37c79",
   "metadata": {},
   "source": [
    "#### Machine Learning Deployment"
   ]
  },
  {
   "cell_type": "code",
   "execution_count": 56,
   "id": "18827db6",
   "metadata": {},
   "outputs": [],
   "source": [
    "from tkinter import *\n",
    "from nltk.tokenize import word_tokenize\n",
    "from nltk.corpus import stopwords\n",
    "from nltk.stem import LancasterStemmer\n",
    "import joblib"
   ]
  },
  {
   "cell_type": "code",
   "execution_count": 51,
   "id": "5ab9fbcf",
   "metadata": {},
   "outputs": [],
   "source": [
    "ls = LancasterStemmer()\n",
    "swords = stopwords.words('english')"
   ]
  },
  {
   "cell_type": "code",
   "execution_count": 52,
   "id": "23e41cbe",
   "metadata": {},
   "outputs": [],
   "source": [
    "def clean_text(sent):\n",
    "    tokens1 = word_tokenize(sent)\n",
    "    tokens2 = [x.lower() for x in tokens1 if x.isalpha() or x.isdigit()]\n",
    "    tokens3 = [x.lower() for x in tokens2 if x not in swords]\n",
    "    tokens4 = [ls.stem(x) for x in tokens3]\n",
    "    return tokens4"
   ]
  },
  {
   "cell_type": "code",
   "execution_count": 61,
   "id": "cf1e18fc",
   "metadata": {},
   "outputs": [],
   "source": [
    "top = Tk()\n",
    "classifier = joblib.load('classifier.model')\n",
    "tfidf = joblib.load('tfidf.model')\n",
    "\n",
    "def display(event):\n",
    "    global message\n",
    "    message = message.get()\n",
    "    message = tfidf.transform([message])\n",
    "    result = classifier.predict(message)[0]\n",
    "    if result == 'ham':\n",
    "        Label(text='NOT Spam Message').place(x=100, y=200)\n",
    "    else:\n",
    "        Label(text='SPAM Message!').place(x=100, y=200)\n",
    "\n",
    "message = StringVar()\n",
    "\n",
    "Label(top,text=\"Enter message:\").place(x=50, y=50)\n",
    "e = Entry(top, width=100, textvariable=message)\n",
    "e.place(x=200, y=50)\n",
    "e.bind('<Return>',display)\n",
    "\n",
    "top.title('My Window')\n",
    "top.geometry('1200x300')\n",
    "top.mainloop()"
   ]
  },
  {
   "cell_type": "code",
   "execution_count": null,
   "id": "23b83d2b",
   "metadata": {},
   "outputs": [],
   "source": []
  }
 ],
 "metadata": {
  "kernelspec": {
   "display_name": "Python 3",
   "language": "python",
   "name": "python3"
  },
  "language_info": {
   "codemirror_mode": {
    "name": "ipython",
    "version": 3
   },
   "file_extension": ".py",
   "mimetype": "text/x-python",
   "name": "python",
   "nbconvert_exporter": "python",
   "pygments_lexer": "ipython3",
   "version": "3.8.10"
  }
 },
 "nbformat": 4,
 "nbformat_minor": 5
}
