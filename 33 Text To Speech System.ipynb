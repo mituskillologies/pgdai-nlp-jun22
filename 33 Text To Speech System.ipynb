{
 "cells": [
  {
   "cell_type": "markdown",
   "id": "615a99df",
   "metadata": {},
   "source": [
    "#### Install the libraries"
   ]
  },
  {
   "cell_type": "code",
   "execution_count": 1,
   "id": "6eca8280",
   "metadata": {},
   "outputs": [
    {
     "name": "stdout",
     "output_type": "stream",
     "text": [
      "Defaulting to user installation because normal site-packages is not writeable\n",
      "Requirement already satisfied: gtts in /home/mitu/.local/lib/python3.8/site-packages (2.2.4)\n",
      "Requirement already satisfied: playsound in /home/mitu/.local/lib/python3.8/site-packages (1.3.0)\n",
      "Requirement already satisfied: six in /home/mitu/.local/lib/python3.8/site-packages (from gtts) (1.16.0)\n",
      "Requirement already satisfied: click in /home/mitu/.local/lib/python3.8/site-packages (from gtts) (8.1.3)\n",
      "Requirement already satisfied: requests in /home/mitu/.local/lib/python3.8/site-packages (from gtts) (2.28.2)\n",
      "Requirement already satisfied: charset-normalizer<4,>=2 in /home/mitu/.local/lib/python3.8/site-packages (from requests->gtts) (2.1.1)\n",
      "Requirement already satisfied: idna<4,>=2.5 in /home/mitu/.local/lib/python3.8/site-packages (from requests->gtts) (3.4)\n",
      "Requirement already satisfied: urllib3<1.27,>=1.21.1 in /home/mitu/.local/lib/python3.8/site-packages (from requests->gtts) (1.26.14)\n",
      "Requirement already satisfied: certifi>=2017.4.17 in /home/mitu/.local/lib/python3.8/site-packages (from requests->gtts) (2022.12.7)\n"
     ]
    }
   ],
   "source": [
    "!pip install gtts playsound"
   ]
  },
  {
   "cell_type": "markdown",
   "id": "19396b2f",
   "metadata": {},
   "source": [
    "#### Import the packages"
   ]
  },
  {
   "cell_type": "code",
   "execution_count": 3,
   "id": "fd5ec2ac",
   "metadata": {},
   "outputs": [],
   "source": [
    "from gtts import gTTS                  # class\n",
    "from playsound import playsound        # method"
   ]
  },
  {
   "cell_type": "markdown",
   "id": "bb99bcfd",
   "metadata": {},
   "source": [
    "#### Create the object of TTS system"
   ]
  },
  {
   "cell_type": "code",
   "execution_count": 4,
   "id": "2e751def",
   "metadata": {},
   "outputs": [],
   "source": [
    "tts = gTTS(text='Hello friends, how are you?', lang='en')"
   ]
  },
  {
   "cell_type": "markdown",
   "id": "a3e0685b",
   "metadata": {},
   "source": [
    "#### Save the text in audio format and play"
   ]
  },
  {
   "cell_type": "code",
   "execution_count": 5,
   "id": "64694d72",
   "metadata": {},
   "outputs": [],
   "source": [
    "tts.save('speech.mp3')\n",
    "playsound('speech.mp3')"
   ]
  },
  {
   "cell_type": "markdown",
   "id": "ac13c12b",
   "metadata": {},
   "source": [
    "#### Check different langauges"
   ]
  },
  {
   "cell_type": "code",
   "execution_count": 6,
   "id": "e54e9691",
   "metadata": {},
   "outputs": [],
   "source": [
    "tts = gTTS(text='नमस्कार, तुमच्या सर्वांचं मितू स्किलॉलॉजिस तर्फे स्वागत आहे.', \n",
    "           lang='mr')"
   ]
  },
  {
   "cell_type": "code",
   "execution_count": 7,
   "id": "0c8c8a14",
   "metadata": {},
   "outputs": [],
   "source": [
    "tts.save('speech.mp3')\n",
    "playsound('speech.mp3')"
   ]
  },
  {
   "cell_type": "code",
   "execution_count": null,
   "id": "1f7fd18c",
   "metadata": {},
   "outputs": [],
   "source": []
  }
 ],
 "metadata": {
  "kernelspec": {
   "display_name": "Python 3",
   "language": "python",
   "name": "python3"
  },
  "language_info": {
   "codemirror_mode": {
    "name": "ipython",
    "version": 3
   },
   "file_extension": ".py",
   "mimetype": "text/x-python",
   "name": "python",
   "nbconvert_exporter": "python",
   "pygments_lexer": "ipython3",
   "version": "3.8.10"
  }
 },
 "nbformat": 4,
 "nbformat_minor": 5
}
